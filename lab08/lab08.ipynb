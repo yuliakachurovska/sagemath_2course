{
 "cells": [
  {
   "attachments": {},
   "cell_type": "markdown",
   "id": "d344deb3-66ad-4695-ac16-cddf4c362d38",
   "metadata": {},
   "source": [
    "# Лабораторна робота 8\n",
    "\n",
    "__Знайдіть к-ть різних розфарбувань кубика Рубика 2х2х2, використовуючи 10 кольорів.__\n",
    "\n",
    "\n",
    "![rubik_cube](https://raw.githubusercontent.com/davendiy/sage-labs2024/96b42f445dfba70bbb604f6f81f079be6864ba52/docs/labs_assets/rubik_cube.jpg)\n",
    "\n",
    "Два розфарбування називатимуться однаковими, якщо існує послідовність рухів кубика рубика, яка одне розфарбування переводить в інше. \n",
    "\n",
    "Не обовʼязково використовувати всі 10 кольорів, тобто допустимо пофарбувати весь кубик в один колір. \n",
    "\n",
    "___Приклад___: існує 183 різних розфарбувань, використовуючи 2 кольори. "
   ]
  },
  {
   "cell_type": "code",
   "execution_count": 50,
   "id": "a8ac4995-14b4-467d-a1f3-128841eabfb9",
   "metadata": {},
   "outputs": [
    {
     "data": {
      "text/plain": [
       "88179840"
      ]
     },
     "execution_count": 50,
     "metadata": {},
     "output_type": "execute_result"
    }
   ],
   "source": [
    "G = SymmetricGroup(24)\n",
    "g1 = G('(1, 2, 4, 3)(5, 24, 9, 7)(6, 23, 10, 8)');\n",
    "g2 = G('(10, 16, 15, 9)(2, 22, 18, 8)(4, 24, 20, 14)');\n",
    "g3 = G('(20, 19, 17, 18)(16, 21, 12, 14)(15, 22, 11, 13)');\n",
    "g4 = G('(11, 5, 6, 12)(19, 23, 3, 13)(17, 21, 1, 7)');\n",
    "g5 = G('(21, 22, 24, 23)(5, 19, 16, 2)(11, 20, 10, 1)');\n",
    "g6 = G('(7, 8, 14, 13)(6, 4, 15, 17)(12, 3, 9, 18)');\n",
    "\n",
    "H = G.subgroup([g1, g2, g3, g4, g5, g6])\n",
    "ord = H.order()\n",
    "ord"
   ]
  },
  {
   "cell_type": "code",
   "execution_count": 51,
   "id": "ebd93e24-ace7-444a-821e-8f1e5bf1b1d1",
   "metadata": {},
   "outputs": [
    {
     "name": "stdout",
     "output_type": "stream",
     "text": [
      "12395526079546335\n"
     ]
    }
   ],
   "source": [
    "colours = 10\n",
    "summa = 0\n",
    "\n",
    "for cl in H.conjugacy_classes():\n",
    "    cycle_type = cl.representative().cycle_type()\n",
    "    cycle_length = len(cycle_type)\n",
    "    class_cardinality = cl.cardinality()\n",
    "    summa += class_cardinality * colours ** cycle_length\n",
    "    \n",
    "result = summa / ord\n",
    "print(result)"
   ]
  }
 ],
 "metadata": {
  "kernelspec": {
   "display_name": "SageMath 10.4",
   "language": "sage",
   "name": "sagemath"
  },
  "language_info": {
   "codemirror_mode": {
    "name": "ipython",
    "version": 3
   },
   "file_extension": ".py",
   "mimetype": "text/x-python",
   "name": "python",
   "nbconvert_exporter": "python",
   "pygments_lexer": "ipython3",
   "version": "3.11.10"
  }
 },
 "nbformat": 4,
 "nbformat_minor": 5
}
