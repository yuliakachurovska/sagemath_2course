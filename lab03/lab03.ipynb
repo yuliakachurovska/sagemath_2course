{
 "cells": [
  {
   "cell_type": "markdown",
   "id": "088d0c68-43d4-421c-bdda-91b406d863ba",
   "metadata": {},
   "source": [
    "# Лабораторна робота 3. Групи, порядок елемента в групі\n",
    "\n",
    "_Примітка_: наведений код є лише одним з можливих шаблонів виконання. Можете писати по-своєму, але розділяйте свій код на функції, щоб їх можна було простіше перевіряти.\n",
    "\n",
    "## Завдання 1. \n",
    "\n",
    "__Задайте групи $D_{10}$, $Z_{16}$, $A_5$, $SL(2, \\mathbb{Z}_3)$*. Для кожної з них виведіть таблицю Келі, знайдіть порядок групи, перевірте чи група абелева. Перевірте чи будуть ізоморфними групи $SL(2, Z_3)$ та $D_{12}$.__\n",
    "\n",
    "*: група матриць 2х2 з визначником 1 над полем $\\mathbb{Z}_3$"
   ]
  },
  {
   "cell_type": "code",
   "execution_count": 1,
   "id": "8411013e-cb5f-4276-9113-e0bf1a966b4f",
   "metadata": {},
   "outputs": [],
   "source": [
    "D10 = DihedralGroup(10)\n",
    "Z16 = CyclicPermutationGroup(16)\n",
    "A5 = AlternatingGroup(5)\n",
    "SL2Z3 = SL(2, Integers(3))\n",
    "D12 = DihedralGroup(12)\n",
    "\n",
    "def group(G, group_name, file):\n",
    "    file.write(f\"Група {group_name}\\n\")\n",
    "    file.write(f\"Порядок: {G.order()}\\n\")\n",
    "    \n",
    "    if G.is_abelian():\n",
    "        file.write(\"Чи є група абелевою: Так.\\n\")\n",
    "    else:\n",
    "        file.write(\"Чи є група абелевою: Ні.\\n\")\n",
    "    \n",
    "    file.write(f\"Таблиця Келі:\\n\")\n",
    "    file.write(f\"{G.cayley_table()}\\n\\n\")\n",
    "    file.write(\"***\" * 14 + \"\\n\\n\")\n",
    "\n",
    "with open(\"output_task1.txt\", \"w\") as file:\n",
    "    group(D10, \"D10\", file)\n",
    "    group(Z16, \"Z16\", file)\n",
    "    group(A5, \"A5\", file)\n",
    "    group(SL2Z3, \"SL(2, Z3)\", file)\n",
    "\n",
    "    if SL2Z3.is_isomorphic(D12):\n",
    "        file.write(\"Чи є SL(2, Z3) та D12 ізоморфними: Так.\\n\")\n",
    "    else:\n",
    "        file.write(\"Чи є SL(2, Z3) та D12 ізоморфними: Ні.\\n\")\n"
   ]
  },
  {
   "cell_type": "markdown",
   "id": "101bece3-af83-4515-ba1a-e2d825b15a8d",
   "metadata": {},
   "source": [
    "## Завдання 2. \n",
    "\n",
    "__Знайдіть к-ть елементів кожного можливого порядку в групах $S_{100}$ та $A_{100}$.__\n",
    "\n",
    "-----\n",
    "___Зауваження___: вивід буде великий, збережіть його в окремий текстовий файл\n",
    "\n",
    "___Зауваження 2___: оцініть спершу к-ть елементів в групі, а потім ще раз подумайте чи варто тут писати повний перебір"
   ]
  },
  {
   "cell_type": "code",
   "execution_count": 2,
   "id": "c5866f5d-ba29-40b9-af38-a4e93198f68d",
   "metadata": {},
   "outputs": [],
   "source": [
    "# в мене не вийшло реалізувати код не роблячи повний перебір.. (та й повний перебір теж шось шкутильгає)"
   ]
  },
  {
   "cell_type": "markdown",
   "id": "aa1ddcec-2a21-46d5-80be-ff32c79d7de8",
   "metadata": {},
   "source": [
    "## Завдання 3. \n",
    "___Для заданих натуральних $n, k$ ($1 <= n \\le 1 000 000, 1 \\le k \\le n!$) визначте чи існує в групі $S_n$ елемент порядку $k$.___\n",
    "\n",
    "----------\n",
    "\n",
    "___Зауваження:___ зверніть увагу на межі, в яких задано $n, k$. "
   ]
  },
  {
   "cell_type": "code",
   "execution_count": 3,
   "id": "4a04b16b-4a63-4a64-902b-f07148aad1f7",
   "metadata": {},
   "outputs": [
    {
     "name": "stdout",
     "output_type": "stream",
     "text": [
      "Елемент порядку 132154 існує в S_1000000\n"
     ]
    }
   ],
   "source": [
    "from math import gcd\n",
    "from functools import reduce\n",
    "from sympy import factorint\n",
    "\n",
    "\"\"\" користуюсь, як ви і радили, задачою про пакування рюкзака з динам. програмування\n",
    "за \"вагу\" будемо вважати довжину циклу, тобто нашою метою буде знайти комбінацію циклів яка дасть НСК рівне k,\n",
    "при цьому не перевищивши \"вагу\"\n",
    "\"\"\"\n",
    "# Для цього числа рахувало хвилини 4, тобто працює але довго\n",
    "\n",
    "def knapsack_lcm(n, k):\n",
    "    def lcm(a, b):\n",
    "        return a * b // gcd(a, b)\n",
    "    \n",
    "    factors = factorint(k) #розклали на прості множники \n",
    "    for p in factors:  # Якщо простий множник більше за n, одразу повертаємо False аби не рахувати зайве\n",
    "        if p > n:\n",
    "            return False\n",
    "        \n",
    "    possible_lcms = set([1])  # Спершу у нас є лише НСК одиниці\n",
    "    \n",
    "    for i in range(1, n + 1):      # Перебір можливих довжин циклів від 1 до n\n",
    "        new_lcms = set()\n",
    "        for existing_lcm in possible_lcms:\n",
    "            new_lcm = lcm(existing_lcm, i)\n",
    "            if new_lcm <= k:  # Якщо перевищили k, то така комбінація циклів нам не підходить\n",
    "                new_lcms.add(new_lcm)\n",
    "                \n",
    "        possible_lcms.update(new_lcms)\n",
    "        \n",
    "        if k in possible_lcms:\n",
    "            return True\n",
    "    \n",
    "    return k in possible_lcms \n",
    "\n",
    "n = 10**6\n",
    "k = 132154\n",
    "# k = int(input(\"Введіть значення k: \"))\n",
    "result = knapsack_lcm(n, k)\n",
    "\n",
    "if result:\n",
    "    print(f\"Елемент порядку {k} існує в S_{n}\")\n",
    "else:\n",
    "    print(f\"Елемент порядку {k} не існує в S_{n}\")"
   ]
  }
 ],
 "metadata": {
  "kernelspec": {
   "display_name": "SageMath 10.4",
   "language": "sage",
   "name": "sagemath"
  },
  "language_info": {
   "codemirror_mode": {
    "name": "ipython",
    "version": 3
   },
   "file_extension": ".py",
   "mimetype": "text/x-python",
   "name": "python",
   "nbconvert_exporter": "python",
   "pygments_lexer": "ipython3",
   "version": "3.11.10"
  }
 },
 "nbformat": 4,
 "nbformat_minor": 5
}
