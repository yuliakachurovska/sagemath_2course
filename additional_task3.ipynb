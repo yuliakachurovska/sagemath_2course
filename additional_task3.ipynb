{
 "cells": [
  {
   "cell_type": "code",
   "execution_count": 14,
   "id": "264b3d1f-c89e-44e8-83d3-1690d6d780bc",
   "metadata": {},
   "outputs": [],
   "source": [
    "Z = Integers()\n",
    "Q = QQ()"
   ]
  },
  {
   "cell_type": "code",
   "execution_count": 28,
   "id": "60910a3d-3b04-4192-937d-31f6baee39d7",
   "metadata": {},
   "outputs": [
    {
     "data": {
      "text/plain": [
       "(True, True)"
      ]
     },
     "execution_count": 28,
     "metadata": {},
     "output_type": "execute_result"
    }
   ],
   "source": [
    "# Покажемо, що вони абелеві\n",
    "a_Q = QQ(1/2)\n",
    "b_Q = QQ(1/3)\n",
    "\n",
    "a_Z = ZZ(2)\n",
    "b_Z = ZZ(3)\n",
    "\n",
    "commut_Q = (a_Q + b_Q == b_Q + a_Q)\n",
    "commut_Z = (a_Z + b_Z == b_Z + a_Z)\n",
    "\n",
    "commut_Q, commut_Z"
   ]
  },
  {
   "cell_type": "code",
   "execution_count": 20,
   "id": "9728c0a4-3aa5-4475-b792-e5133677c0fd",
   "metadata": {},
   "outputs": [
    {
     "data": {
      "text/plain": [
       "True"
      ]
     },
     "execution_count": 20,
     "metadata": {},
     "output_type": "execute_result"
    }
   ],
   "source": [
    "# Тривіальний гомоморфізм в групі Z\n",
    "elements = [-2, -1, 0, 3, 2]\n",
    "\n",
    "def trivial_homomorphism(n):\n",
    "    return 0\n",
    "    \n",
    "is_homomorphism = True\n",
    "for a in elements:\n",
    "    for b in elements:\n",
    "        if trivial_homomorphism(a + b) != trivial_homomorphism(a) + trivial_homomorphism(b):\n",
    "            is_homomorphism = False\n",
    "            break\n",
    "    if not is_homomorphism:\n",
    "        break\n",
    "\n",
    "is_homomorphism\n",
    "# Тривіальний гомоморфізм, який відображає всі елементи в 0, завжди буде гомоморфізмом для будь якої абелевої"
   ]
  },
  {
   "cell_type": "code",
   "execution_count": 23,
   "id": "be84c0f5-3e8f-47c6-95b2-dc70c19c5ef9",
   "metadata": {},
   "outputs": [
    {
     "data": {
      "text/plain": [
       "True"
      ]
     },
     "execution_count": 23,
     "metadata": {},
     "output_type": "execute_result"
    }
   ],
   "source": [
    "# Тривіальний гомоморфізм в Q\n",
    "def trivial_homomorphism(a):\n",
    "    return 0\n",
    "\n",
    "a = QQ(1/2)  # 1/2\n",
    "b = QQ(1/3)  # 1/3\n",
    "trivial_homomorphism(a + b) == trivial_homomorphism(a) + trivial_homomorphism(b)"
   ]
  },
  {
   "cell_type": "code",
   "execution_count": 29,
   "id": "574300d9-b1f6-4510-81d3-42e019647cbb",
   "metadata": {},
   "outputs": [
    {
     "data": {
      "text/plain": [
       "True"
      ]
     },
     "execution_count": 29,
     "metadata": {},
     "output_type": "execute_result"
    }
   ],
   "source": [
    "# ф(а/b)=а*ф(1/b) для Q\n",
    "tl = trivial_homomorphism(a / b)\n",
    "tr = a * trivial_homomorphism(1/b)\n",
    "tl == tr"
   ]
  },
  {
   "cell_type": "code",
   "execution_count": 30,
   "id": "f8d1dda9-1857-44d6-9f9f-178e86701ad8",
   "metadata": {},
   "outputs": [
    {
     "name": "stdout",
     "output_type": "stream",
     "text": [
      "Left side: 0, Right side: 2\n",
      "Is homomorphism condition satisfied? False\n",
      "Left side: 0, Right side: 2\n",
      "Is homomorphism condition satisfied? False\n",
      "Left side: 0, Right side: -2\n",
      "Is homomorphism condition satisfied? False\n",
      "Left side: 0, Right side: -2\n",
      "Is homomorphism condition satisfied? False\n"
     ]
    }
   ],
   "source": [
    "# Перевіримо, чи існує ще гомоморфізм крім тривіального\n",
    "def phi(x):\n",
    "    if x == QQ(1/2):  # Якщо x = 1/2, то φ(1/2) = 1\n",
    "        return 1\n",
    "    elif x == QQ(1/3):  # Якщо x = 1/3, то φ(1/3) = 1\n",
    "        return 1\n",
    "    elif x == -QQ(1/2):  # Якщо x = -1/2, то φ(-1/2) = -1\n",
    "        return -1\n",
    "    elif x == -QQ(1/3):  # Якщо x = -1/3, то φ(-1/3) = -1\n",
    "        return -1\n",
    "    else:\n",
    "        return 0  # Тривіальний гомоморфізм\n",
    "\n",
    "# 1/2 + 1/2\n",
    "tl = phi(QQ(1/2) + QQ(1/2))\n",
    "tr = phi(QQ(1/2)) + phi(QQ(1/2))\n",
    "\n",
    "print(f\"Left side: {tl}, Right side: {tr}\")\n",
    "print(tl == tr)\n",
    "\n",
    "# 1/3 + 1/3\n",
    "tl = phi(QQ(1/3) + QQ(1/3))\n",
    "tr = phi(QQ(1/3)) + phi(QQ(1/3))\n",
    "\n",
    "print(f\"Left side: {tl}, Right side: {tr}\")\n",
    "print(tl == tr)\n",
    "\n",
    "# -1/2 + (-1/2)\n",
    "tl = phi(-QQ(1/2) + -QQ(1/2))\n",
    "tr = phi(-QQ(1/2)) + phi(-QQ(1/2))\n",
    "\n",
    "print(f\"Left side: {tl}, Right side: {tr}\")\n",
    "print(tl == tr)\n",
    "\n",
    "# -1/3 + (-1/3)\n",
    "tl = phi(-QQ(1/3) + -QQ(1/3))\n",
    "tr = phi(-QQ(1/3)) + phi(-QQ(1/3))\n",
    "\n",
    "print(f\"Left side: {tl}, Right side: {tr}\")\n",
    "print(tl == tr)\n"
   ]
  },
  {
   "cell_type": "code",
   "execution_count": null,
   "id": "e2bb542e-5dc3-492a-8f31-15f648685a9b",
   "metadata": {},
   "outputs": [],
   "source": []
  }
 ],
 "metadata": {
  "kernelspec": {
   "display_name": "SageMath 10.4",
   "language": "sage",
   "name": "sagemath"
  },
  "language_info": {
   "codemirror_mode": {
    "name": "ipython",
    "version": 3
   },
   "file_extension": ".py",
   "mimetype": "text/x-python",
   "name": "python",
   "nbconvert_exporter": "python",
   "pygments_lexer": "ipython3",
   "version": "3.11.10"
  }
 },
 "nbformat": 4,
 "nbformat_minor": 5
}
