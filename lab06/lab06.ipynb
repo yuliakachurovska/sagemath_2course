{
 "cells": [
  {
   "cell_type": "markdown",
   "id": "9984309c-05fe-48ca-ac0f-df0e070b3500",
   "metadata": {},
   "source": [
    "# Лабораторна робота 6\n",
    "\n",
    "## Завдання 1\n",
    "\n",
    "В групі рухів правильного восьмикутника задайте циклічну підгрупу порядку 4. Побудуйте для неї ліві і праві класи суміжності та перевірте чи буде ця група нормальною. "
   ]
  },
  {
   "cell_type": "code",
   "execution_count": 11,
   "id": "62c2ef77-6575-4ac1-b8a8-5f48ab1a23b4",
   "metadata": {},
   "outputs": [
    {
     "data": {
      "text/plain": [
       "((1,2,3,4,5,6,7,8), (1,8)(2,7)(3,6)(4,5))"
      ]
     },
     "execution_count": 11,
     "metadata": {},
     "output_type": "execute_result"
    }
   ],
   "source": [
    "D8 = DihedralGroup(8)\n",
    "D8.gens()"
   ]
  },
  {
   "cell_type": "code",
   "execution_count": 12,
   "id": "346d1304-54b8-403f-b79d-f34b29233430",
   "metadata": {},
   "outputs": [
    {
     "data": {
      "text/plain": [
       "[(),\n",
       " (1,5)(2,6)(3,7)(4,8),\n",
       " (1,7,5,3)(2,8,6,4),\n",
       " (1,3,5,7)(2,4,6,8),\n",
       " (1,8,7,6,5,4,3,2),\n",
       " (1,4,7,2,5,8,3,6),\n",
       " (1,6,3,8,5,2,7,4),\n",
       " (1,2,3,4,5,6,7,8),\n",
       " (2,8)(3,7)(4,6),\n",
       " (1,5)(2,4)(6,8),\n",
       " (1,7)(2,6)(3,5),\n",
       " (1,3)(4,8)(5,7),\n",
       " (1,8)(2,7)(3,6)(4,5),\n",
       " (1,4)(2,3)(5,8)(6,7),\n",
       " (1,6)(2,5)(3,4)(7,8),\n",
       " (1,2)(3,8)(4,7)(5,6)]"
      ]
     },
     "execution_count": 12,
     "metadata": {},
     "output_type": "execute_result"
    }
   ],
   "source": [
    "D8.list()"
   ]
  },
  {
   "cell_type": "code",
   "execution_count": 13,
   "id": "00750f31-8f03-47eb-968a-9fd47495a283",
   "metadata": {},
   "outputs": [
    {
     "data": {
      "text/plain": [
       "4"
      ]
     },
     "execution_count": 13,
     "metadata": {},
     "output_type": "execute_result"
    }
   ],
   "source": [
    "d = D8('(1, 3, 5, 7)(2, 4, 6, 8)')\n",
    "d.order()"
   ]
  },
  {
   "cell_type": "code",
   "execution_count": 17,
   "id": "2d4c5967-6fe1-4b20-818d-90f9ba813ecf",
   "metadata": {},
   "outputs": [
    {
     "data": {
      "text/plain": [
       "([[(), (1,3,5,7)(2,4,6,8), (1,5)(2,6)(3,7)(4,8), (1,7,5,3)(2,8,6,4)],\n",
       "  [(2,8)(3,7)(4,6), (1,7)(2,6)(3,5), (1,5)(2,4)(6,8), (1,3)(4,8)(5,7)],\n",
       "  [(1,2)(3,8)(4,7)(5,6),\n",
       "   (1,8)(2,7)(3,6)(4,5),\n",
       "   (1,6)(2,5)(3,4)(7,8),\n",
       "   (1,4)(2,3)(5,8)(6,7)],\n",
       "  [(1,2,3,4,5,6,7,8),\n",
       "   (1,4,7,2,5,8,3,6),\n",
       "   (1,6,3,8,5,2,7,4),\n",
       "   (1,8,7,6,5,4,3,2)]],\n",
       " [[(), (1,3,5,7)(2,4,6,8), (1,5)(2,6)(3,7)(4,8), (1,7,5,3)(2,8,6,4)],\n",
       "  [(2,8)(3,7)(4,6), (1,3)(4,8)(5,7), (1,5)(2,4)(6,8), (1,7)(2,6)(3,5)],\n",
       "  [(1,2)(3,8)(4,7)(5,6),\n",
       "   (1,4)(2,3)(5,8)(6,7),\n",
       "   (1,6)(2,5)(3,4)(7,8),\n",
       "   (1,8)(2,7)(3,6)(4,5)],\n",
       "  [(1,2,3,4,5,6,7,8),\n",
       "   (1,4,7,2,5,8,3,6),\n",
       "   (1,6,3,8,5,2,7,4),\n",
       "   (1,8,7,6,5,4,3,2)]])"
      ]
     },
     "execution_count": 17,
     "metadata": {},
     "output_type": "execute_result"
    }
   ],
   "source": [
    "H = D8.subgroup([d])\n",
    "Hr = D8.cosets(H, side = 'right')\n",
    "Hl = D8.cosets(H, side = 'left')\n",
    "Hr, Hl"
   ]
  },
  {
   "cell_type": "code",
   "execution_count": 18,
   "id": "34bdf653-964a-4c54-b23b-fd0383538f84",
   "metadata": {},
   "outputs": [
    {
     "data": {
      "text/plain": [
       "True"
      ]
     },
     "execution_count": 18,
     "metadata": {},
     "output_type": "execute_result"
    }
   ],
   "source": [
    "Hr_sorted = [sorted(S) for S in Hr]\n",
    "Hl_sorted = [sorted(S) for S in Hl]\n",
    "Hr_sorted == Hl_sorted"
   ]
  },
  {
   "cell_type": "code",
   "execution_count": 22,
   "id": "9debea94-9c09-4904-84cd-fe7fd58bdc60",
   "metadata": {},
   "outputs": [
    {
     "data": {
      "text/plain": [
       "True"
      ]
     },
     "execution_count": 22,
     "metadata": {},
     "output_type": "execute_result"
    }
   ],
   "source": [
    "H.is_normal(D8)"
   ]
  },
  {
   "cell_type": "code",
   "execution_count": 26,
   "id": "3985afd0-c090-48a5-b6c3-02505f57d999",
   "metadata": {},
   "outputs": [],
   "source": [
    "#Група D8 є нормальною. Ліві і праві класи суміжності збігаються"
   ]
  },
  {
   "cell_type": "markdown",
   "id": "32d79728-78a0-45fa-97c0-fd84c89d542f",
   "metadata": {},
   "source": [
    "## Завдання 2 \n",
    "\n",
    "Переберіть всі підгрупи знакозмінної групи $A_5$. Перевірте всі на нормальність. Порівняйте час роботи з методом `.is_simple` для групи $A_5$. "
   ]
  },
  {
   "cell_type": "code",
   "execution_count": 30,
   "id": "07a43d96-743f-4dfc-8aac-05282583e407",
   "metadata": {},
   "outputs": [
    {
     "data": {
      "text/plain": [
       "((1,2,3,4,5), (3,4,5))"
      ]
     },
     "execution_count": 30,
     "metadata": {},
     "output_type": "execute_result"
    }
   ],
   "source": [
    "A5 =  AlternatingGroup(5)\n",
    "A5.gens()"
   ]
  },
  {
   "cell_type": "code",
   "execution_count": 49,
   "id": "60f889cf-c4be-41c9-8a86-db148d051e71",
   "metadata": {},
   "outputs": [
    {
     "name": "stdout",
     "output_type": "stream",
     "text": [
      "Група A5 є нормальною.\n",
      "Час виконання: 0.04459 секунд\n"
     ]
    }
   ],
   "source": [
    "import time\n",
    "start = time.time()\n",
    "subgroups = A5.subgroups()\n",
    "normal = []\n",
    "\n",
    "for H in subgroups:\n",
    "    if H.is_normal(A5):\n",
    "        normal.append(H)\n",
    "\n",
    "if len(normal) == 2:  # Група є простою, отже нормальними може бути лише дві підгрупи, () і ((1,2,3,4,5), (3,4,5))\n",
    "    print(\"Група A5 є нормальною.\")\n",
    "else:\n",
    "    print(\"Група А5 не є нормальною:\", normal)\n",
    "\n",
    "end = time.time()\n",
    "execution_time = end - start\n",
    "print(f\"Час виконання: {execution_time:.5f} секунд\")"
   ]
  },
  {
   "cell_type": "code",
   "execution_count": 50,
   "id": "3cb7d4c3-ebf1-4b5c-9df7-e29944a235b9",
   "metadata": {},
   "outputs": [
    {
     "name": "stdout",
     "output_type": "stream",
     "text": [
      "True\n",
      "Час виконання: 0.00058 секунд\n"
     ]
    }
   ],
   "source": [
    "start = time.time()\n",
    "res = A5.is_simple()\n",
    "print(res)\n",
    "end = time.time()\n",
    "execution_time = end - start\n",
    "print(f\"Час виконання: {execution_time:.5f} секунд\")"
   ]
  },
  {
   "cell_type": "markdown",
   "id": "d89354e1-d1ac-42a5-ba68-ab8f2812e89c",
   "metadata": {},
   "source": [
    "## Завдання 3 \n",
    " \n",
    "Задайте кілька діедральних груп $D_n$ для різних $n$. Як варіант, переберіть n в межах $3 \\le n \\le 100$. Для кожної діедральної групи побудуйте __список порядків нормальних підгруп__ (методом `normal_subgroups`). Знайдіть закономірність і виведіть гіпотезу.\n",
    "\n",
    "Спрогнозуйте скільки нормальних підгруп має група $D_{470448}$ __без виводу всіх за допомогою Sage__. _Опишіть_ всі нормальні підгрупи групи $D_{470448}$.  "
   ]
  },
  {
   "cell_type": "code",
   "execution_count": null,
   "id": "112ce5c0-ce32-41b5-a31d-057f3c4a1f39",
   "metadata": {},
   "outputs": [],
   "source": [
    "D4 = DihedralGroup(4)\n",
    "D6 = DihedralGroup(6)\n",
    "D12 = DihedralGroup(12)\n",
    "\n",
    "group1 = D4.normal_subgroups()\n",
    "group2 = D6.normal_subgroups()\n",
    "group3 = D12.normal_subgroups()\n",
    "\n",
    "for i in group1:\n",
    "    print(i.order())\n",
    "for j in group2:\n",
    "    print(j.order())\n",
    "for k in group3:\n",
    "    print(k.order())"
   ]
  },
  {
   "cell_type": "code",
   "execution_count": 10,
   "id": "a4683494-5cf6-4f4b-91b9-c5c2b933b4fe",
   "metadata": {},
   "outputs": [],
   "source": [
    "# всі підгрупи при непарному n\n",
    "def write_to_file(group, group_name, filename):\n",
    "    normal_subgroups = group.normal_subgroups()\n",
    "    with open(filename, 'a') as file:\n",
    "        file.write(f'Нормальні підгрупи {group_name}:\\n')\n",
    "        for subgroup in normal_subgroups:\n",
    "            file.write(f'{subgroup.order()}\\n')\n",
    "        file.write('\\n')\n",
    "\n",
    "filename = 'dihedral_group_normal_subgroups_odd.txt'\n",
    "for i in range(3, 50, 2):\n",
    "    D = DihedralGroup(i)\n",
    "    write_to_file(D, f'D{i}', filename)"
   ]
  },
  {
   "cell_type": "code",
   "execution_count": 13,
   "id": "33e78417-b6f7-4999-8338-03bfd7b19eff",
   "metadata": {},
   "outputs": [],
   "source": [
    "# n - непарне та не просте\n",
    "filename = 'dihedral_group_normal_subgroups_odd1.txt'\n",
    "for i in range(3, 50, 2):\n",
    "    if not is_prime(i):\n",
    "        D = DihedralGroup(i)\n",
    "        write_to_file(D, f'D{i}', filename)"
   ]
  },
  {
   "cell_type": "code",
   "execution_count": null,
   "id": "3c5afabb-a223-456f-b6a1-f4a22074ec5c",
   "metadata": {},
   "outputs": [],
   "source": [
    "# якщо число n непарне і просте, то буде всього три нормальні підгрупи вигляду {1, n, 2n}\n",
    "# якщо число n непарне і не просте, то в нормальній підгрупі точно міститимуться групи порядку {2n, n, 1} і + потрібно розкласти число n\n",
    "# на прості множники, кожен з них також буде порядком нормальної групи"
   ]
  },
  {
   "cell_type": "code",
   "execution_count": 14,
   "id": "f132cc04-c0ef-4912-a450-bfbc5055ac75",
   "metadata": {},
   "outputs": [],
   "source": [
    "# n - парне\n",
    "filename = 'dihedral_group_normal_subgroups_even.txt'\n",
    "for i in range(4, 50, 2):\n",
    "    D = DihedralGroup(i)\n",
    "    write_to_file(D, f'D{i}', filename)"
   ]
  },
  {
   "cell_type": "code",
   "execution_count": null,
   "id": "d041c68a-ba31-41d5-a76d-63684f21cf6f",
   "metadata": {},
   "outputs": [],
   "source": [
    "# в усіх підгрупах точно містяться нормальні групи порядку 1, 2n і три підгрупи порядку n\n",
    "# ті n які діляться на 2 і в результаті отримується просте число мають порядки ті, що вказані вище і плюс ще 2 і n2"
   ]
  },
  {
   "cell_type": "code",
   "execution_count": 20,
   "id": "a0b93841-9b0c-4fa7-a429-8f4980ac5933",
   "metadata": {},
   "outputs": [
    {
     "data": {
      "text/plain": [
       "False"
      ]
     },
     "execution_count": 20,
     "metadata": {},
     "output_type": "execute_result"
    }
   ],
   "source": [
    "m = 470448/2\n",
    "is_prime(m)"
   ]
  },
  {
   "cell_type": "code",
   "execution_count": 33,
   "id": "3fe226ac-3355-4d2f-9393-9cf622b1f22f",
   "metadata": {},
   "outputs": [],
   "source": [
    "# n - парне, але n/2 не просте\n",
    "filename = 'dihedral_group_normal_subgroups_even2.txt'\n",
    "for i in range(4, 101, 2):\n",
    "    k = i//2\n",
    "    if not is_prime(k):\n",
    "        D = DihedralGroup(i)\n",
    "        write_to_file(D, f'D{i}', filename)"
   ]
  },
  {
   "cell_type": "code",
   "execution_count": null,
   "id": "48e9a511-bdc4-4483-9f99-521ad99bb931",
   "metadata": {},
   "outputs": [],
   "source": [
    "# якщо число представлене як 2^k, де (k=2,3,..), то група буде розкладатись як 1, 2, 4, 8, 16,...n, n, n, 2n"
   ]
  },
  {
   "cell_type": "code",
   "execution_count": 57,
   "id": "78e9a32e-f3ff-4ff5-80fe-051cc60a22aa",
   "metadata": {},
   "outputs": [
    {
     "data": {
      "text/plain": [
       "2^2 * 3^2"
      ]
     },
     "execution_count": 57,
     "metadata": {},
     "output_type": "execute_result"
    }
   ],
   "source": [
    "factor(36)"
   ]
  },
  {
   "cell_type": "code",
   "execution_count": 45,
   "id": "1a4bb1d1-6356-4966-87bb-74402459b6d4",
   "metadata": {},
   "outputs": [],
   "source": [
    "# у всіх інших випадках потрібно брати розклад n на прості множники, вони будуть порядками нормальних підгруп і + потрібно взяти всі можливі добутки\n",
    "# цих чисел\n",
    "# Наприклад: \n",
    "# factor(36)\n",
    "# 2^2 * 3^2\n",
    "# отже порядками будуть 2, 3, 2*3=6, 2^2=4, 3^2=9, 2^2*3=12, 3^3*2=18 ну і плюс 1, n, n, n, 2n\n",
    "# n те ж саме, що і 2^2 * 3^2"
   ]
  },
  {
   "cell_type": "code",
   "execution_count": 49,
   "id": "0aa97703-70a2-48fd-9890-17567d78e4d6",
   "metadata": {},
   "outputs": [
    {
     "name": "stdout",
     "output_type": "stream",
     "text": [
      "[1, 2, 3, 4, 6, 9, 12, 18, 36]\n"
     ]
    }
   ],
   "source": [
    "factors = {2: 2, 3: 2}  # 2^2 * 3^2\n",
    "products = set()\n",
    "\n",
    "for power2 in range(factors[2] + 1):\n",
    "    for power3 in range(factors[3] + 1):\n",
    "        product = (2 ** power2) * (3 ** power3)\n",
    "        products.add(product)\n",
    "\n",
    "print(sorted(products))"
   ]
  },
  {
   "cell_type": "code",
   "execution_count": 50,
   "id": "ceacab03-9ecd-4269-8daf-e652c2edff4e",
   "metadata": {},
   "outputs": [
    {
     "data": {
      "text/plain": [
       "False"
      ]
     },
     "execution_count": 50,
     "metadata": {},
     "output_type": "execute_result"
    }
   ],
   "source": [
    "# Отже, число 470488 ділиться на 2 ==> парне\n",
    "m = 470448/2\n",
    "is_prime(m)"
   ]
  },
  {
   "cell_type": "code",
   "execution_count": 51,
   "id": "522c2f58-61df-4b09-b620-bec5567c88bf",
   "metadata": {},
   "outputs": [
    {
     "data": {
      "text/plain": [
       "2^3 * 13 * 45197"
      ]
     },
     "execution_count": 51,
     "metadata": {},
     "output_type": "execute_result"
    }
   ],
   "source": [
    "# Після ділення число непросте, отже, розкладемо на прості множники\n",
    "factor(4700488)"
   ]
  },
  {
   "cell_type": "code",
   "execution_count": 55,
   "id": "7f91c939-f2b2-4bab-ab37-d265cdb3adfa",
   "metadata": {},
   "outputs": [
    {
     "name": "stdout",
     "output_type": "stream",
     "text": [
      "[1, 2, 4, 8, 13, 26, 52, 104, 45197, 90394, 180788, 361576, 587561, 1175122, 2350244, 4700488]\n"
     ]
    }
   ],
   "source": [
    "factors = {2: 3, 13: 1, 45197: 1}  # 2^3 * 13^1 * 45197^1\n",
    "products = set()\n",
    "\n",
    "for power2 in range(factors[2] + 1):\n",
    "    for power13 in range(factors[13] + 1):\n",
    "        for power45197 in range(factors[45197] + 1):\n",
    "            product = (2 ** power2) * (13 ** power13) * (45197 ** power45197)\n",
    "            products.add(product)\n",
    "\n",
    "print(sorted(products))"
   ]
  },
  {
   "cell_type": "code",
   "execution_count": 56,
   "id": "3f1915a8-247a-472c-87da-76dddbbbe339",
   "metadata": {},
   "outputs": [
    {
     "data": {
      "text/plain": [
       "9400976"
      ]
     },
     "execution_count": 56,
     "metadata": {},
     "output_type": "execute_result"
    }
   ],
   "source": [
    "4700488*2"
   ]
  },
  {
   "cell_type": "code",
   "execution_count": null,
   "id": "433d4aac-47f9-4755-beb8-7a3ec8247207",
   "metadata": {},
   "outputs": [],
   "source": [
    "# Отже, порядками групи D470488 є \n",
    "# [1, 2, 4, 8, 13, 26, 52, 104, 45197, 90394, 180788, 361576, 587561, 1175122, 2350244, 4700488, 4700488, 4700488, 9400976]"
   ]
  },
  {
   "cell_type": "markdown",
   "id": "f3ca8935-0e4f-499f-a370-c53aae342f54",
   "metadata": {},
   "source": [
    "## Завдання 4\n",
    "\n",
    "На сайті https://brauer.maths.qmul.ac.uk/Atlas/v3/spor/HS в секції `Representations of HS : Number of Points 100` знайдіть у форматі GAP генератори $G = \\langle a, b \\rangle$. Задайте їх як елементи групи $S_{100}$ і породіть ними підгрупу $G$. Це так звана Higman-Sims група. Виведіть її порядок і знайдіть нормальні підгрупи. Зробіть висновки. "
   ]
  },
  {
   "cell_type": "code",
   "execution_count": null,
   "id": "bdd76f48-70f8-4a4a-96cd-4704d2179664",
   "metadata": {},
   "outputs": [],
   "source": [
    "# Ваш код тут "
   ]
  }
 ],
 "metadata": {
  "kernelspec": {
   "display_name": "SageMath 10.4",
   "language": "sage",
   "name": "sagemath"
  },
  "language_info": {
   "codemirror_mode": {
    "name": "ipython",
    "version": 3
   },
   "file_extension": ".py",
   "mimetype": "text/x-python",
   "name": "python",
   "nbconvert_exporter": "python",
   "pygments_lexer": "ipython3",
   "version": "3.11.10"
  }
 },
 "nbformat": 4,
 "nbformat_minor": 5
}
