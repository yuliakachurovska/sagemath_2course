{
 "cells": [
  {
   "cell_type": "markdown",
   "id": "9984309c-05fe-48ca-ac0f-df0e070b3500",
   "metadata": {},
   "source": [
    "# Лабораторна робота 6\n",
    "\n",
    "## Завдання 1\n",
    "\n",
    "В групі рухів правильного восьмикутника задайте циклічну підгрупу порядку 4. Побудуйте для неї ліві і праві класи суміжності та перевірте чи буде ця група нормальною. "
   ]
  },
  {
   "cell_type": "code",
   "execution_count": 1,
   "id": "62c2ef77-6575-4ac1-b8a8-5f48ab1a23b4",
   "metadata": {},
   "outputs": [
    {
     "data": {
      "text/plain": [
       "((1,2,3,4,5,6,7,8), (1,8)(2,7)(3,6)(4,5))"
      ]
     },
     "execution_count": 1,
     "metadata": {},
     "output_type": "execute_result"
    }
   ],
   "source": [
    "D8 = DihedralGroup(8)\n",
    "D8.gens()"
   ]
  },
  {
   "cell_type": "code",
   "execution_count": 2,
   "id": "346d1304-54b8-403f-b79d-f34b29233430",
   "metadata": {},
   "outputs": [
    {
     "data": {
      "text/plain": [
       "[(),\n",
       " (1,5)(2,6)(3,7)(4,8),\n",
       " (1,7,5,3)(2,8,6,4),\n",
       " (1,3,5,7)(2,4,6,8),\n",
       " (1,8,7,6,5,4,3,2),\n",
       " (1,4,7,2,5,8,3,6),\n",
       " (1,6,3,8,5,2,7,4),\n",
       " (1,2,3,4,5,6,7,8),\n",
       " (2,8)(3,7)(4,6),\n",
       " (1,5)(2,4)(6,8),\n",
       " (1,7)(2,6)(3,5),\n",
       " (1,3)(4,8)(5,7),\n",
       " (1,8)(2,7)(3,6)(4,5),\n",
       " (1,4)(2,3)(5,8)(6,7),\n",
       " (1,6)(2,5)(3,4)(7,8),\n",
       " (1,2)(3,8)(4,7)(5,6)]"
      ]
     },
     "execution_count": 2,
     "metadata": {},
     "output_type": "execute_result"
    }
   ],
   "source": [
    "D8.list()"
   ]
  },
  {
   "cell_type": "code",
   "execution_count": 3,
   "id": "00750f31-8f03-47eb-968a-9fd47495a283",
   "metadata": {},
   "outputs": [
    {
     "data": {
      "text/plain": [
       "4"
      ]
     },
     "execution_count": 3,
     "metadata": {},
     "output_type": "execute_result"
    }
   ],
   "source": [
    "d = D8('(1, 3, 5, 7)(2, 4, 6, 8)')\n",
    "d.order()"
   ]
  },
  {
   "cell_type": "code",
   "execution_count": 4,
   "id": "2d4c5967-6fe1-4b20-818d-90f9ba813ecf",
   "metadata": {},
   "outputs": [
    {
     "data": {
      "text/plain": [
       "([[(), (1,3,5,7)(2,4,6,8), (1,5)(2,6)(3,7)(4,8), (1,7,5,3)(2,8,6,4)],\n",
       "  [(2,8)(3,7)(4,6), (1,7)(2,6)(3,5), (1,5)(2,4)(6,8), (1,3)(4,8)(5,7)],\n",
       "  [(1,2)(3,8)(4,7)(5,6),\n",
       "   (1,8)(2,7)(3,6)(4,5),\n",
       "   (1,6)(2,5)(3,4)(7,8),\n",
       "   (1,4)(2,3)(5,8)(6,7)],\n",
       "  [(1,2,3,4,5,6,7,8),\n",
       "   (1,4,7,2,5,8,3,6),\n",
       "   (1,6,3,8,5,2,7,4),\n",
       "   (1,8,7,6,5,4,3,2)]],\n",
       " [[(), (1,3,5,7)(2,4,6,8), (1,5)(2,6)(3,7)(4,8), (1,7,5,3)(2,8,6,4)],\n",
       "  [(2,8)(3,7)(4,6), (1,3)(4,8)(5,7), (1,5)(2,4)(6,8), (1,7)(2,6)(3,5)],\n",
       "  [(1,2)(3,8)(4,7)(5,6),\n",
       "   (1,4)(2,3)(5,8)(6,7),\n",
       "   (1,6)(2,5)(3,4)(7,8),\n",
       "   (1,8)(2,7)(3,6)(4,5)],\n",
       "  [(1,2,3,4,5,6,7,8),\n",
       "   (1,4,7,2,5,8,3,6),\n",
       "   (1,6,3,8,5,2,7,4),\n",
       "   (1,8,7,6,5,4,3,2)]])"
      ]
     },
     "execution_count": 4,
     "metadata": {},
     "output_type": "execute_result"
    }
   ],
   "source": [
    "H = D8.subgroup([d])\n",
    "Hr = D8.cosets(H, side = 'right')\n",
    "Hl = D8.cosets(H, side = 'left')\n",
    "Hr, Hl"
   ]
  },
  {
   "cell_type": "code",
   "execution_count": 5,
   "id": "34bdf653-964a-4c54-b23b-fd0383538f84",
   "metadata": {},
   "outputs": [
    {
     "data": {
      "text/plain": [
       "True"
      ]
     },
     "execution_count": 5,
     "metadata": {},
     "output_type": "execute_result"
    }
   ],
   "source": [
    "Hr_sorted = [sorted(S) for S in Hr]\n",
    "Hl_sorted = [sorted(S) for S in Hl]\n",
    "Hr_sorted == Hl_sorted"
   ]
  },
  {
   "cell_type": "code",
   "execution_count": 6,
   "id": "9debea94-9c09-4904-84cd-fe7fd58bdc60",
   "metadata": {},
   "outputs": [
    {
     "data": {
      "text/plain": [
       "True"
      ]
     },
     "execution_count": 6,
     "metadata": {},
     "output_type": "execute_result"
    }
   ],
   "source": [
    "H.is_normal(D8)"
   ]
  },
  {
   "cell_type": "code",
   "execution_count": 7,
   "id": "3985afd0-c090-48a5-b6c3-02505f57d999",
   "metadata": {},
   "outputs": [],
   "source": [
    "#Група D8 є нормальною. Ліві і праві класи суміжності збігаються"
   ]
  },
  {
   "cell_type": "markdown",
   "id": "32d79728-78a0-45fa-97c0-fd84c89d542f",
   "metadata": {},
   "source": [
    "## Завдання 2 \n",
    "\n",
    "Переберіть всі підгрупи знакозмінної групи $A_5$. Перевірте всі на нормальність. Порівняйте час роботи з методом `.is_simple` для групи $A_5$. "
   ]
  },
  {
   "cell_type": "code",
   "execution_count": 8,
   "id": "07a43d96-743f-4dfc-8aac-05282583e407",
   "metadata": {},
   "outputs": [
    {
     "data": {
      "text/plain": [
       "((1,2,3,4,5), (3,4,5))"
      ]
     },
     "execution_count": 8,
     "metadata": {},
     "output_type": "execute_result"
    }
   ],
   "source": [
    "A5 =  AlternatingGroup(5)\n",
    "A5.gens()"
   ]
  },
  {
   "cell_type": "code",
   "execution_count": 9,
   "id": "60f889cf-c4be-41c9-8a86-db148d051e71",
   "metadata": {},
   "outputs": [
    {
     "name": "stdout",
     "output_type": "stream",
     "text": [
      "Група A5 є нормальною.\n",
      "Час виконання: 0.12509 секунд\n"
     ]
    }
   ],
   "source": [
    "import time\n",
    "start = time.time()\n",
    "subgroups = A5.subgroups()\n",
    "normal = []\n",
    "\n",
    "for H in subgroups:\n",
    "    if H.is_normal(A5):\n",
    "        normal.append(H)\n",
    "\n",
    "if len(normal) == 2:  # Група є простою, отже нормальними може бути лише дві підгрупи, () і ((1,2,3,4,5), (3,4,5))\n",
    "    print(\"Група A5 є нормальною.\")\n",
    "else:\n",
    "    print(\"Група А5 не є нормальною:\", normal)\n",
    "\n",
    "end = time.time()\n",
    "execution_time = end - start\n",
    "print(f\"Час виконання: {execution_time:.5f} секунд\")"
   ]
  },
  {
   "cell_type": "code",
   "execution_count": 10,
   "id": "3cb7d4c3-ebf1-4b5c-9df7-e29944a235b9",
   "metadata": {},
   "outputs": [
    {
     "name": "stdout",
     "output_type": "stream",
     "text": [
      "True\n",
      "Час виконання: 0.00079 секунд\n"
     ]
    }
   ],
   "source": [
    "start = time.time()\n",
    "res = A5.is_simple()\n",
    "print(res)\n",
    "end = time.time()\n",
    "execution_time = end - start\n",
    "print(f\"Час виконання: {execution_time:.5f} секунд\")"
   ]
  },
  {
   "cell_type": "markdown",
   "id": "d89354e1-d1ac-42a5-ba68-ab8f2812e89c",
   "metadata": {},
   "source": [
    "## Завдання 3 \n",
    " \n",
    "Задайте кілька діедральних груп $D_n$ для різних $n$. Як варіант, переберіть n в межах $3 \\le n \\le 100$. Для кожної діедральної групи побудуйте __список порядків нормальних підгруп__ (методом `normal_subgroups`). Знайдіть закономірність і виведіть гіпотезу.\n",
    "\n",
    "Спрогнозуйте скільки нормальних підгруп має група $D_{470448}$ __без виводу всіх за допомогою Sage__. _Опишіть_ всі нормальні підгрупи групи $D_{470448}$.  "
   ]
  },
  {
   "cell_type": "code",
   "execution_count": 11,
   "id": "112ce5c0-ce32-41b5-a31d-057f3c4a1f39",
   "metadata": {
    "scrolled": true
   },
   "outputs": [],
   "source": [
    "# D4 = DihedralGroup(4)\n",
    "# D6 = DihedralGroup(6)\n",
    "# D12 = DihedralGroup(12)\n",
    "\n",
    "# group1 = D4.normal_subgroups()\n",
    "# group2 = D6.normal_subgroups()\n",
    "# group3 = D12.normal_subgroups()\n",
    "\n",
    "# for i in group1:\n",
    "#     print(i.order())\n",
    "# for j in group2:\n",
    "#     print(j.order())\n",
    "# for k in group3:\n",
    "#     print(k.order())"
   ]
  },
  {
   "cell_type": "code",
   "execution_count": 12,
   "id": "a4683494-5cf6-4f4b-91b9-c5c2b933b4fe",
   "metadata": {},
   "outputs": [],
   "source": [
    "# всі підгрупи при непарному n\n",
    "def write_to_file(group, group_name, filename):\n",
    "    normal_subgroups = group.normal_subgroups()\n",
    "    with open(filename, 'a') as file:\n",
    "        file.write(f'Нормальні підгрупи {group_name}:\\n')\n",
    "        for subgroup in normal_subgroups:\n",
    "            file.write(f'{subgroup.order()}\\n')\n",
    "        file.write('\\n')\n",
    "\n",
    "filename = 'normal_subgroups_odd_prime.txt'\n",
    "for i in range(3, 50, 2):\n",
    "    D = DihedralGroup(i)\n",
    "    write_to_file(D, f'D{i}', filename)"
   ]
  },
  {
   "cell_type": "code",
   "execution_count": 13,
   "id": "33e78417-b6f7-4999-8338-03bfd7b19eff",
   "metadata": {},
   "outputs": [],
   "source": [
    "# n - непарне та не просте\n",
    "filename = 'normal_subgroups_odd_not_prime.txt'\n",
    "for i in range(3, 50, 2):\n",
    "    if not is_prime(i):\n",
    "        D = DihedralGroup(i)\n",
    "        write_to_file(D, f'D{i}', filename)"
   ]
  },
  {
   "cell_type": "code",
   "execution_count": 14,
   "id": "3c5afabb-a223-456f-b6a1-f4a22074ec5c",
   "metadata": {},
   "outputs": [],
   "source": [
    "# якщо число n непарне і просте, то буде всього три нормальні підгрупи вигляду {1, n, 2n}\n",
    "# якщо число n непарне і не просте, то в нормальній підгрупі точно міститимуться групи порядку {2n, n, 1} і + потрібно розкласти число n\n",
    "# на прості множники, кожен з них також буде порядком нормальної групи"
   ]
  },
  {
   "cell_type": "code",
   "execution_count": 15,
   "id": "f132cc04-c0ef-4912-a450-bfbc5055ac75",
   "metadata": {},
   "outputs": [],
   "source": [
    "# n - парне\n",
    "filename = 'normal_subgroups_even.txt'\n",
    "for i in range(4, 50, 2):\n",
    "    D = DihedralGroup(i)\n",
    "    write_to_file(D, f'D{i}', filename)"
   ]
  },
  {
   "cell_type": "code",
   "execution_count": 16,
   "id": "d041c68a-ba31-41d5-a76d-63684f21cf6f",
   "metadata": {},
   "outputs": [],
   "source": [
    "# в усіх підгрупах точно містяться нормальні групи порядку 1, 2n і три підгрупи порядку n\n",
    "# ті n які діляться на 2 і в результаті отримується просте число мають порядки ті, що вказані вище і плюс ще 2 і n2"
   ]
  },
  {
   "cell_type": "code",
   "execution_count": 18,
   "id": "a0b93841-9b0c-4fa7-a429-8f4980ac5933",
   "metadata": {},
   "outputs": [
    {
     "data": {
      "text/plain": [
       "False"
      ]
     },
     "execution_count": 18,
     "metadata": {},
     "output_type": "execute_result"
    }
   ],
   "source": [
    "m = 470448/2\n",
    "is_prime(m)"
   ]
  },
  {
   "cell_type": "code",
   "execution_count": 19,
   "id": "3fe226ac-3355-4d2f-9393-9cf622b1f22f",
   "metadata": {},
   "outputs": [],
   "source": [
    "# n - парне, але n/2 не просте\n",
    "filename = 'normal_subgroups_even_2.txt'\n",
    "for i in range(4, 101, 2):\n",
    "    k = i//2\n",
    "    if not is_prime(k):\n",
    "        D = DihedralGroup(i)\n",
    "        write_to_file(D, f'D{i}', filename)"
   ]
  },
  {
   "cell_type": "code",
   "execution_count": 20,
   "id": "48e9a511-bdc4-4483-9f99-521ad99bb931",
   "metadata": {},
   "outputs": [],
   "source": [
    "# якщо число представлене як 2^k, де (k=2,3,..), то група буде розкладатись як 1, 2, 4, 8, 16,...n, n, n, 2n"
   ]
  },
  {
   "cell_type": "code",
   "execution_count": 21,
   "id": "78e9a32e-f3ff-4ff5-80fe-051cc60a22aa",
   "metadata": {},
   "outputs": [
    {
     "data": {
      "text/plain": [
       "2^2 * 3^2"
      ]
     },
     "execution_count": 21,
     "metadata": {},
     "output_type": "execute_result"
    }
   ],
   "source": [
    "factor(36)"
   ]
  },
  {
   "cell_type": "code",
   "execution_count": 22,
   "id": "1a4bb1d1-6356-4966-87bb-74402459b6d4",
   "metadata": {},
   "outputs": [],
   "source": [
    "# у всіх інших випадках потрібно брати розклад n на прості множники, вони будуть порядками нормальних підгруп і + потрібно взяти всі можливі добутки\n",
    "# цих чисел\n",
    "# Наприклад: \n",
    "# factor(36)\n",
    "# 2^2 * 3^2\n",
    "# отже порядками будуть 2, 3, 2*3=6, 2^2=4, 3^2=9, 2^2*3=12, 3^3*2=18 ну і плюс 1, n, n, n, 2n\n",
    "# n те ж саме, що і 2^2 * 3^2"
   ]
  },
  {
   "cell_type": "code",
   "execution_count": 23,
   "id": "0aa97703-70a2-48fd-9890-17567d78e4d6",
   "metadata": {},
   "outputs": [
    {
     "name": "stdout",
     "output_type": "stream",
     "text": [
      "[1, 2, 3, 4, 6, 9, 12, 18, 36]\n"
     ]
    }
   ],
   "source": [
    "factors = {2: 2, 3: 2}  # 2^2 * 3^2\n",
    "products = set()\n",
    "\n",
    "for power2 in range(factors[2] + 1):\n",
    "    for power3 in range(factors[3] + 1):\n",
    "        product = (2 ** power2) * (3 ** power3)\n",
    "        products.add(product)\n",
    "\n",
    "print(sorted(products))"
   ]
  },
  {
   "cell_type": "code",
   "execution_count": 24,
   "id": "ceacab03-9ecd-4269-8daf-e652c2edff4e",
   "metadata": {},
   "outputs": [
    {
     "data": {
      "text/plain": [
       "False"
      ]
     },
     "execution_count": 24,
     "metadata": {},
     "output_type": "execute_result"
    }
   ],
   "source": [
    "# Отже, число 470488 ділиться на 2 ==> парне\n",
    "m = 470448/2\n",
    "is_prime(m)"
   ]
  },
  {
   "cell_type": "code",
   "execution_count": 25,
   "id": "522c2f58-61df-4b09-b620-bec5567c88bf",
   "metadata": {},
   "outputs": [
    {
     "data": {
      "text/plain": [
       "2^3 * 13 * 45197"
      ]
     },
     "execution_count": 25,
     "metadata": {},
     "output_type": "execute_result"
    }
   ],
   "source": [
    "# Після ділення число непросте, отже, розкладемо на прості множники\n",
    "factor(4700488)"
   ]
  },
  {
   "cell_type": "code",
   "execution_count": 26,
   "id": "7f91c939-f2b2-4bab-ab37-d265cdb3adfa",
   "metadata": {},
   "outputs": [
    {
     "name": "stdout",
     "output_type": "stream",
     "text": [
      "[1, 2, 4, 8, 13, 26, 52, 104, 45197, 90394, 180788, 361576, 587561, 1175122, 2350244, 4700488]\n"
     ]
    }
   ],
   "source": [
    "factors = {2: 3, 13: 1, 45197: 1}  # 2^3 * 13^1 * 45197^1\n",
    "products = set()\n",
    "\n",
    "for power2 in range(factors[2] + 1):\n",
    "    for power13 in range(factors[13] + 1):\n",
    "        for power45197 in range(factors[45197] + 1):\n",
    "            product = (2 ** power2) * (13 ** power13) * (45197 ** power45197)\n",
    "            products.add(product)\n",
    "\n",
    "print(sorted(products))"
   ]
  },
  {
   "cell_type": "code",
   "execution_count": 27,
   "id": "3f1915a8-247a-472c-87da-76dddbbbe339",
   "metadata": {},
   "outputs": [
    {
     "data": {
      "text/plain": [
       "9400976"
      ]
     },
     "execution_count": 27,
     "metadata": {},
     "output_type": "execute_result"
    }
   ],
   "source": [
    "4700488*2"
   ]
  },
  {
   "cell_type": "code",
   "execution_count": 28,
   "id": "433d4aac-47f9-4755-beb8-7a3ec8247207",
   "metadata": {},
   "outputs": [],
   "source": [
    "# Отже, порядками групи D470488 є \n",
    "# [1, 2, 4, 8, 13, 26, 52, 104, 45197, 90394, 180788, 361576, 587561, 1175122, 2350244, 4700488, 4700488, 4700488, 9400976]\n",
    "# тобто всього нормальних груп в нас 19"
   ]
  },
  {
   "cell_type": "markdown",
   "id": "f3ca8935-0e4f-499f-a370-c53aae342f54",
   "metadata": {},
   "source": [
    "## Завдання 4\n",
    "\n",
    "На сайті https://brauer.maths.qmul.ac.uk/Atlas/v3/spor/HS в секції `Representations of HS : Number of Points 100` знайдіть у форматі GAP генератори $G = \\langle a, b \\rangle$. Задайте їх як елементи групи $S_{100}$ і породіть ними підгрупу $G$. Це так звана Higman-Sims група. Виведіть її порядок і знайдіть нормальні підгрупи. Зробіть висновки. "
   ]
  },
  {
   "cell_type": "code",
   "execution_count": 29,
   "id": "bdd76f48-70f8-4a4a-96cd-4704d2179664",
   "metadata": {},
   "outputs": [
    {
     "data": {
      "text/plain": [
       "([60, 72, 81, 43, 11, 87, 34, 8, 63, 10, 5, 46, 28, 71, 42, 97, 17, 57, 52, 20, 32, 22, 47, 54, 83, 78, 27, 13, 89, 39, 31, 21, 61, 7, 56, 36, 67, 38, 30, 40, 41, 15, 4, 76, 88, 12, 23, 59, 86, 74, 66, 19, 99, 24, 75, 35, 18, 58, 48, 1, 33, 73, 9, 64, 79, 51, 37, 82, 69, 70, 14, 2, 62, 50, 55, 44, 92, 26, 65, 80, 3, 68, 25, 90, 98, 49, 6, 45, 29, 84, 91, 77, 93, 100, 95, 96, 16, 85, 53, 94],\n",
       " [86, 53, 40, 29, 98, 27, 83, 38, 23, 47, 42, 14, 10, 81, 90, 20, 3, 69, 59, 28, 22, 64, 89, 6, 17, 58, 51, 7, 92, 8, 56, 11, 52, 62, 93, 82, 15, 2, 100, 48, 80, 46, 4, 33, 84, 91, 1, 25, 67, 34, 73, 94, 30, 65, 68, 37, 63, 96, 79, 74, 9, 87, 71, 39, 5, 54, 41, 12, 45, 49, 99, 36, 24, 72, 44, 18, 26, 50, 35, 70, 55, 60, 16, 76, 77, 13, 78, 43, 95, 31, 32, 88, 19, 75, 61, 85, 57, 66, 97, 21])"
      ]
     },
     "execution_count": 29,
     "metadata": {},
     "output_type": "execute_result"
    }
   ],
   "source": [
    "a = Permutation([ (1, 60), (2, 72), (3, 81), (4, 43), (5, 11), (6, 87), (7, 34), \n",
    "                    (9, 63), (12, 46), (13, 28), (14, 71), (15, 42), (16, 97), \n",
    "                    (18, 57), (19, 52), (21, 32), (23, 47), (24, 54), (25, 83), \n",
    "                    (26, 78), (29, 89), (30, 39), (33, 61), (35, 56), (37, 67), \n",
    "                    (44, 76), (45, 88), (48, 59), (49, 86), (50, 74), (51, 66), \n",
    "                    (53, 99), (55, 75), (62, 73), (65, 79), (68, 82), (77, 92), \n",
    "                    (84, 90), (85, 98), (94, 100) ])\n",
    "\n",
    "b = Permutation([ (1, 86, 13, 10, 47), (2, 53, 30, 8, 38), (3, 40, 48, 25, 17), \n",
    "                    (4, 29, 92, 88, 43), (5, 98, 66, 54, 65), (6, 27, 51, 73, 24), \n",
    "                    (7, 83, 16, 20, 28), (9, 23, 89, 95, 61), (11, 42, 46, 91, 32), \n",
    "                    (12, 14, 81, 55, 68), (15, 90, 31, 56, 37), (18, 69, 45, 84, 76), \n",
    "                    (19, 59, 79, 35, 93), (21, 22, 64, 39, 100), (26, 58, 96, 85, 77), \n",
    "                    (33, 52, 94, 75, 44), (34, 62, 87, 78, 50), (36, 82, 60, 74, 72), \n",
    "                    (41, 80, 70, 49, 67), (57, 63, 71, 99, 97) ])\n",
    "\n",
    "a, b"
   ]
  },
  {
   "cell_type": "code",
   "execution_count": 30,
   "id": "1add0faa-3a3c-4fec-b7aa-68744608501c",
   "metadata": {},
   "outputs": [
    {
     "data": {
      "text/plain": [
       "Symmetric group of order 100! as a permutation group"
      ]
     },
     "execution_count": 30,
     "metadata": {},
     "output_type": "execute_result"
    }
   ],
   "source": [
    "S100 = SymmetricGroup(100)\n",
    "S100"
   ]
  },
  {
   "cell_type": "code",
   "execution_count": 31,
   "id": "e8c9883e-a2db-4c83-88c6-c033685dc402",
   "metadata": {},
   "outputs": [
    {
     "data": {
      "text/plain": [
       "44352000"
      ]
     },
     "execution_count": 31,
     "metadata": {},
     "output_type": "execute_result"
    }
   ],
   "source": [
    "G = S100.subgroup([a, b])\n",
    "G.order()"
   ]
  },
  {
   "cell_type": "code",
   "execution_count": 33,
   "id": "31b2ea1a-93ef-4416-87ae-d14f9dfe1125",
   "metadata": {},
   "outputs": [
    {
     "data": {
      "text/plain": [
       "[Subgroup generated by [()] of (Subgroup generated by [(1,60)(2,72)(3,81)(4,43)(5,11)(6,87)(7,34)(9,63)(12,46)(13,28)(14,71)(15,42)(16,97)(18,57)(19,52)(21,32)(23,47)(24,54)(25,83)(26,78)(29,89)(30,39)(33,61)(35,56)(37,67)(44,76)(45,88)(48,59)(49,86)(50,74)(51,66)(53,99)(55,75)(62,73)(65,79)(68,82)(77,92)(84,90)(85,98)(94,100), (1,86,13,10,47)(2,53,30,8,38)(3,40,48,25,17)(4,29,92,88,43)(5,98,66,54,65)(6,27,51,73,24)(7,83,16,20,28)(9,23,89,95,61)(11,42,46,91,32)(12,14,81,55,68)(15,90,31,56,37)(18,69,45,84,76)(19,59,79,35,93)(21,22,64,39,100)(26,58,96,85,77)(33,52,94,75,44)(34,62,87,78,50)(36,82,60,74,72)(41,80,70,49,67)(57,63,71,99,97)] of (Symmetric group of order 100! as a permutation group)),\n",
       " Subgroup generated by [(1,60)(2,72)(3,81)(4,43)(5,11)(6,87)(7,34)(9,63)(12,46)(13,28)(14,71)(15,42)(16,97)(18,57)(19,52)(21,32)(23,47)(24,54)(25,83)(26,78)(29,89)(30,39)(33,61)(35,56)(37,67)(44,76)(45,88)(48,59)(49,86)(50,74)(51,66)(53,99)(55,75)(62,73)(65,79)(68,82)(77,92)(84,90)(85,98)(94,100), (1,86,13,10,47)(2,53,30,8,38)(3,40,48,25,17)(4,29,92,88,43)(5,98,66,54,65)(6,27,51,73,24)(7,83,16,20,28)(9,23,89,95,61)(11,42,46,91,32)(12,14,81,55,68)(15,90,31,56,37)(18,69,45,84,76)(19,59,79,35,93)(21,22,64,39,100)(26,58,96,85,77)(33,52,94,75,44)(34,62,87,78,50)(36,82,60,74,72)(41,80,70,49,67)(57,63,71,99,97)] of (Subgroup generated by [(1,60)(2,72)(3,81)(4,43)(5,11)(6,87)(7,34)(9,63)(12,46)(13,28)(14,71)(15,42)(16,97)(18,57)(19,52)(21,32)(23,47)(24,54)(25,83)(26,78)(29,89)(30,39)(33,61)(35,56)(37,67)(44,76)(45,88)(48,59)(49,86)(50,74)(51,66)(53,99)(55,75)(62,73)(65,79)(68,82)(77,92)(84,90)(85,98)(94,100), (1,86,13,10,47)(2,53,30,8,38)(3,40,48,25,17)(4,29,92,88,43)(5,98,66,54,65)(6,27,51,73,24)(7,83,16,20,28)(9,23,89,95,61)(11,42,46,91,32)(12,14,81,55,68)(15,90,31,56,37)(18,69,45,84,76)(19,59,79,35,93)(21,22,64,39,100)(26,58,96,85,77)(33,52,94,75,44)(34,62,87,78,50)(36,82,60,74,72)(41,80,70,49,67)(57,63,71,99,97)] of (Symmetric group of order 100! as a permutation group))]"
      ]
     },
     "execution_count": 33,
     "metadata": {},
     "output_type": "execute_result"
    }
   ],
   "source": [
    "G.normal_subgroups()"
   ]
  }
 ],
 "metadata": {
  "kernelspec": {
   "display_name": "SageMath 10.4",
   "language": "sage",
   "name": "sagemath"
  },
  "language_info": {
   "codemirror_mode": {
    "name": "ipython",
    "version": 3
   },
   "file_extension": ".py",
   "mimetype": "text/x-python",
   "name": "python",
   "nbconvert_exporter": "python",
   "pygments_lexer": "ipython3",
   "version": "3.11.10"
  }
 },
 "nbformat": 4,
 "nbformat_minor": 5
}
