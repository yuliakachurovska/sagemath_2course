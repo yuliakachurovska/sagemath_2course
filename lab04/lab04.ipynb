{
 "cells": [
  {
   "cell_type": "markdown",
   "id": "240177b2-c857-437b-9695-b2f6cdb7de5d",
   "metadata": {},
   "source": [
    "# Лабораторна робота 4. Підгрупи, системи твірних\n",
    "\n",
    "\n",
    "_Примітка_: наведений код є лише одним з можливих шаблонів виконання. Можете писати по-своєму, але розділяйте свій код на функції, щоб їх можна було простіше перевіряти.\n",
    "\n",
    "## Завдання 1. \n",
    "\n",
    "__Знайдіть усі незвідні системи твірних групи $S_4$.__"
   ]
  },
  {
   "cell_type": "code",
   "execution_count": 1,
   "id": "48c12298-55e9-4d0f-89c5-bdd276410db8",
   "metadata": {},
   "outputs": [
    {
     "data": {
      "text/plain": [
       "[((1,4)(2,3), (1,3)(2,4), (2,4,3), (3,4))]"
      ]
     },
     "execution_count": 1,
     "metadata": {},
     "output_type": "execute_result"
    }
   ],
   "source": [
    "G = SymmetricGroup(4)\n",
    "subgroups = G.subgroups()\n",
    "\n",
    "# Знайдемо системи твірних які генерують S4\n",
    "irreducible_generators = []\n",
    "for H in subgroups:\n",
    "    if H.order() == G.order():\n",
    "        irreducible_generators.append(H.gens())\n",
    "\n",
    "irreducible_generators"
   ]
  },
  {
   "cell_type": "markdown",
   "id": "bb9f5726-dd3b-48e0-85be-d725af835ce2",
   "metadata": {},
   "source": [
    "## Завдання 2. \n",
    "\n",
    "__Знайдіть усі підгрупи груп $S_4, A_4, S_5, A_5$.__"
   ]
  },
  {
   "cell_type": "code",
   "execution_count": 2,
   "id": "600b817c-bfd5-449c-8c18-67848ccb4403",
   "metadata": {},
   "outputs": [
    {
     "name": "stdout",
     "output_type": "stream",
     "text": [
      "Підгрупи записані у файл subgroups.txt.\n"
     ]
    }
   ],
   "source": [
    "S4 = SymmetricGroup(4)\n",
    "A4 = AlternatingGroup(4)\n",
    "S5 = SymmetricGroup(5)\n",
    "A5 = AlternatingGroup(5)\n",
    "\n",
    "def find_subgroups(group, filename):\n",
    "    subgroups = group.subgroups()\n",
    "    with open(filename, 'a') as f:\n",
    "        f.write(f\"{group}\\n\\n\")\n",
    "        for subgroup in subgroups:\n",
    "            f.write(f\"{subgroup}\\n\")\n",
    "        f.write(\"\\n\")\n",
    "\n",
    "filename = \"subgroups.txt\"\n",
    "\n",
    "find_subgroups(S4, filename)\n",
    "find_subgroups(A4, filename)\n",
    "find_subgroups(S5, filename)\n",
    "find_subgroups(A5, filename)\n",
    "\n",
    "print(f\"Підгрупи записані у файл {filename}.\")\n"
   ]
  },
  {
   "cell_type": "markdown",
   "id": "653a9629-e757-442f-af0b-bd53b4694cff",
   "metadata": {},
   "source": [
    "## Завдання 3. \n",
    "\n",
    "__Задайте дві випадкові підстановки з групи $S_n, \\, (1 \\le n \\le 100)$. Перевірте чи є вони парними. Знайдіть порядок групи, ними породженої. Чи буде ця група дорівнювати $A_n$? $S_n$?__"
   ]
  },
  {
   "cell_type": "code",
   "execution_count": 3,
   "id": "ee732968-a661-4c26-b729-6b17b1e0a3e3",
   "metadata": {},
   "outputs": [
    {
     "name": "stdout",
     "output_type": "stream",
     "text": [
      "Парність s1 [2, 1, 4, 3, 5]: парна\n",
      "Парність s2 [3, 1, 4, 2, 5]: непарна\n",
      "Порядок групи, породженої перестановками 1 та 2: 8\n",
      "Група дорівнює S_n\n"
     ]
    }
   ],
   "source": [
    "#брала для наглядності приклад підстановки з 5 елементів. За потреби можна легко переробити аби число n, як і підстановки генерувалось рандомним чином\n",
    "def analys_groups():\n",
    "    n = 5\n",
    "    s1 = Permutation([2, 1, 4, 3, 5])  # (1 2)(3 4)\n",
    "    s2 = Permutation([3, 1, 4, 2, 5])  # (1 3)(2 4)(5)\n",
    "\n",
    "    def is_even(permutation):\n",
    "        return permutation.signature() == 1\n",
    "\n",
    "    print(f\"Парність s1 {s1}: {'парна' if is_even(s1) else 'непарна'}\")\n",
    "    print(f\"Парність s2 {s2}: {'парна' if is_even(s2) else 'непарна'}\")\n",
    "\n",
    "    G = PermutationGroup([s1, s2])\n",
    "\n",
    "    order_of_group = G.order()\n",
    "    print(f\"Порядок групи, породженої перестановками 1 та 2: {order_of_group}\")\n",
    "\n",
    "    S_n = SymmetricGroup(n)\n",
    "    A_n = AlternatingGroup(n)\n",
    "\n",
    "    if G.is_subgroup(S_n):\n",
    "        if G.is_subgroup(A_n):\n",
    "            print(\"Група дорівнює A_n\")\n",
    "        else:\n",
    "            print(\"Група дорівнює S_n\")\n",
    "    else:\n",
    "        print(\"Група не є підгрупою S_n\")\n",
    "\n",
    "analys_groups()"
   ]
  },
  {
   "cell_type": "markdown",
   "id": "32485aa0-d40f-4b33-a030-7d3bd7722d70",
   "metadata": {},
   "source": [
    "## Завдання 4. \n",
    "\n",
    "__Покажіть, що теорема Лагранжа працює тільки в одну сторону: знайдіть приклад групи $G$ і дільник порядку цієї групи $d$ такі, що не існує підгрупи $H < G$ порядку $d$.__\n",
    "\n",
    "___Зауваження:___ група $A_4$ не приймається"
   ]
  },
  {
   "cell_type": "code",
   "execution_count": null,
   "id": "d6ed4bb4-3134-4ed2-b889-e8852da2478d",
   "metadata": {},
   "outputs": [],
   "source": []
  }
 ],
 "metadata": {
  "kernelspec": {
   "display_name": "SageMath 10.4",
   "language": "sage",
   "name": "sagemath"
  },
  "language_info": {
   "codemirror_mode": {
    "name": "ipython",
    "version": 3
   },
   "file_extension": ".py",
   "mimetype": "text/x-python",
   "name": "python",
   "nbconvert_exporter": "python",
   "pygments_lexer": "ipython3",
   "version": "3.11.10"
  }
 },
 "nbformat": 4,
 "nbformat_minor": 5
}
